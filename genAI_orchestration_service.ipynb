{
 "cells": [
  {
   "cell_type": "markdown",
   "metadata": {},
   "source": [
    "## Why use SAP Generative Hub's Orchestration Service"
   ]
  },
  {
   "cell_type": "markdown",
   "metadata": {},
   "source": [
    "Access to generative AI models often needs to be combined with other functionalities. These include:\n",
    "\n",
    "- Prompting models using scenario-specific **templates** from a Prompt Repository.\n",
    "\n",
    "- Ensuring compliance with AI Ethics and Responsible AI through **Content Filtering**.\n",
    "\n",
    "- Maintaining data privacy by using **Data Masking** techniques.\n",
    "\n",
    "- Enhancing models with business context through **Retrieval-Augmented Generation (RAG)** .\n",
    "\n",
    "You need a service for coordinating and managing the deployment, integration, and interaction of various AI components.\n",
    "\n",
    "This can be an erroneous and time-consuming process leading to complex and redundant code and workflows.\n",
    "\n",
    "This is where orchestration services can be helpful.\n",
    "\n",
    "> ![need for orchestration](./images/orchestration-1-need.png)\n",
    "\n",
    "AI orchestration is the process of coordinating and managing how various AI components are deployed, integrated, and interact within a system or workflow.\n",
    "\n",
    "Orchestration services and workflows in generative AI hub are useful in creating sophisticated workflows without complex code.\n",
    "\n",
    "We can use orchestration services for different foundational models without changing the client code.\n",
    "\n",
    "This approach **reduces maintenance, enhances control, and optimizes efficiency, helping teams focus on innovation rather than integration**. It helps you design powerful AI workflows visually and bring your AI vision to life faster with modular capabilities and intuitive interfaces.\n",
    "\n",
    "In addition, it allows seamless integration and management of diverse components like data pipelines, AI models, and prebuilt modules (content filtering, data masking). It also ensures efficient execution of multiple AI models, optimizes computational resources, and automates the end-to-end AI lifecycle.\n",
    "\n",
    "> ![need for orchestration](./images/orchestration-2-benefits.png)"
   ]
  },
  {
   "attachments": {},
   "cell_type": "markdown",
   "metadata": {},
   "source": [
    "## Use Case - Supplier Risk Analysis\n",
    "\n",
    "At **BestRun SE**, the company recently kicked off a new project and tasked their supply chain planner with identifying the optimal supplier among several promising candidates. The planner consolidated supplier data from various sources into a single text file to facilitate a thorough risk analysis. Now, the planner must evaluate supplier risk by examining key performance indicators such as reliability, quality, and market trends to make an informed decision.\n",
    "\n",
    "This exercise demonstrates how to leverage SAP Generative AI Hub's orchestration service to build an integrated solution for supplier risk analysis. \n",
    "\n",
    "The solution is designed to assess supplier performance by analyzing key metrics such as quality, pricing, and delivery times while also incorporating additional contextual information like industry trends and historical evaluations. \n",
    "\n",
    "Sensitive supplier information is securely protected through data masking, ensuring that personal details (e.g., contact name, email, and phone) are anonymized. \n",
    "\n",
    "The orchestration service streamlines the process by coordinating between multiple components—data ingestion from files, simulated grounding via embedding, and the execution of an advanced language model—enabling organizations to gain actionable insights into supplier risk and overall procurement strategy."
   ]
  },
  {
   "cell_type": "markdown",
   "metadata": {},
   "source": [
    "## Step 1. Setup Python Environment"
   ]
  },
  {
   "cell_type": "markdown",
   "metadata": {},
   "source": [
    "The following installation only needs to be done once."
   ]
  },
  {
   "cell_type": "markdown",
   "metadata": {},
   "source": [
    "### Install required Python packages. \n",
    "\n",
    "**Note**: You only need to install the following packages once. It could take somewhere between 1 - 3 minutes to complete the installation. "
   ]
  },
  {
   "cell_type": "code",
   "execution_count": null,
   "metadata": {},
   "outputs": [],
   "source": [
    "%pip install generative-ai-hub-sdk[all] --break-system-packages\n",
    "%pip install ipywidgets --break-system-packages\n",
    "%pip install python-dotenv --break-system-packages"
   ]
  },
  {
   "cell_type": "markdown",
   "metadata": {},
   "source": [
    "### Now, before you continue, please restart the kernel by clicking on the **Restart** button on the top"
   ]
  },
  {
   "attachments": {},
   "cell_type": "markdown",
   "metadata": {},
   "source": [
    "### Import Environment and Orchestraion Packages"
   ]
  },
  {
   "cell_type": "code",
   "execution_count": null,
   "metadata": {},
   "outputs": [],
   "source": [
    "# --- import json package to read input file ---\n",
    "import json\n",
    "\n",
    "# --- import packages to read environment variable\n",
    "import os\n",
    "from dotenv import load_dotenv\n",
    "\n",
    "# Load environment variables from the .env file\n",
    "load_dotenv()"
   ]
  },
  {
   "cell_type": "markdown",
   "metadata": {},
   "source": [
    "### Make sure to import the following SAP provided Orchestration Service packages "
   ]
  },
  {
   "cell_type": "code",
   "execution_count": 2,
   "metadata": {},
   "outputs": [],
   "source": [
    "# --- Set Up Orchestration Service packages ---\n",
    "from gen_ai_hub.orchestration.models.message import SystemMessage, UserMessage\n",
    "from gen_ai_hub.orchestration.models.template import Template, TemplateValue\n",
    "from gen_ai_hub.orchestration.models.llm import LLM\n",
    "\n",
    "from gen_ai_hub.orchestration.models.data_masking import DataMasking\n",
    "from gen_ai_hub.orchestration.models.sap_data_privacy_integration import SAPDataPrivacyIntegration, MaskingMethod, ProfileEntity\n",
    "\n",
    "from gen_ai_hub.orchestration.models.config import OrchestrationConfig\n",
    "from gen_ai_hub.orchestration.service import OrchestrationService"
   ]
  },
  {
   "cell_type": "markdown",
   "metadata": {},
   "source": [
    "### Connect with SAP AI Core Instance"
   ]
  },
  {
   "cell_type": "code",
   "execution_count": null,
   "metadata": {},
   "outputs": [],
   "source": [
    "# Get the AI Core URL from environment variables\n",
    "URL = os.getenv('AICORE_AUTH_URL')\n",
    "# Get the AI Core client ID from environment variables\n",
    "CLIENT_ID = os.getenv('AICORE_CLIENT_ID')\n",
    "# Get the AI Core client secret from environment variables\n",
    "CLIENT_SECRET = os.getenv('AICORE_CLIENT_SECRET')\n",
    "# Get the AI Core client ID from environment variables\n",
    "RESOURCE_GROUP = os.getenv('AICORE_RESOURCE_GROUP')\n",
    "# Get the AI Core client secret from environment variables\n",
    "API_URL = os.getenv('AICORE_BASE_URL')\n",
    "\n",
    "# Determine the user's home directory\n",
    "home_dir = os.path.expanduser('~')\n",
    "aicore_dir = os.path.join(home_dir, '.aicore')\n",
    "\n",
    "# Create the .aicore directory if it doesn't exist\n",
    "os.makedirs(aicore_dir, exist_ok=True)\n",
    "\n",
    "# Define the configuration data\n",
    "config_data = {\n",
    "    \"AICORE_AUTH_URL\": URL,\n",
    "    \"AICORE_CLIENT_ID\": CLIENT_ID,\n",
    "    \"AICORE_CLIENT_SECRET\": CLIENT_SECRET,\n",
    "    \"AICORE_RESOURCE_GROUP\": RESOURCE_GROUP,\n",
    "    \"AICORE_BASE_URL\": API_URL\n",
    "}\n",
    "\n",
    "# Path to the config.json file\n",
    "config_path = os.path.join(aicore_dir, 'config.json')\n",
    "\n",
    "# Write the config data to config.json\n",
    "with open(config_path, 'w') as config_file:\n",
    "    json.dump(config_data, config_file, indent=4)\n",
    "\n",
    "print(f\"Your resource group is {RESOURCE_GROUP}\")"
   ]
  },
  {
   "attachments": {},
   "cell_type": "markdown",
   "metadata": {},
   "source": [
    "## Step 2: Configure data masking as per the use case's needs.  \n",
    "**Note:**  This is an optional step. You need to decide if this step is needed per your own use case. "
   ]
  },
  {
   "cell_type": "code",
   "execution_count": 5,
   "metadata": {},
   "outputs": [],
   "source": [
    "# Create a proper data masking configuration\n",
    "data_masking = DataMasking(\n",
    "    providers=[\n",
    "        SAPDataPrivacyIntegration(\n",
    "            method=MaskingMethod.ANONYMIZATION,  # or MaskingMethod.PSEUDONYMIZATION\n",
    "            entities=[\n",
    "                ProfileEntity.EMAIL,\n",
    "                ProfileEntity.PHONE,\n",
    "                ProfileEntity.PERSON\n",
    "            ]\n",
    "        )\n",
    "    ]\n",
    ")"
   ]
  },
  {
   "attachments": {},
   "cell_type": "markdown",
   "metadata": {},
   "source": [
    "## Step 3: Read and ground the data\n",
    "**Note:** This step is simplified for the exercise. In the actual implementation, data preparation can be complex and time consuming.  Our focus of this exercise is the key steps of designing and running an orchestration flow.   "
   ]
  },
  {
   "cell_type": "code",
   "execution_count": 6,
   "metadata": {},
   "outputs": [],
   "source": [
    "# --- Read Supplier Data from File ---\n",
    "with open('data/supplier_data.json', 'r', encoding='utf-8') as f:\n",
    "    sample_supplier_data = f.read()\n"
   ]
  },
  {
   "cell_type": "code",
   "execution_count": 7,
   "metadata": {},
   "outputs": [],
   "source": [
    "# --- Read Grounding Data from File ---\n",
    "with open('data/grounding_data.json', 'r', encoding='utf-8') as f:\n",
    "    sample_grounding_data = f.read()\n"
   ]
  },
  {
   "cell_type": "code",
   "execution_count": 8,
   "metadata": {},
   "outputs": [],
   "source": [
    "# Simulate Embedding for grounding data\n",
    "\n",
    "# Note, we simplified text data embedding on purpose in module 1 of this exercise\n",
    "# We will introduce how to properly setup and run embedding in modoule 2, using SAP HANA Cloud Vector Engine.\n",
    "\n",
    "def embed_text(text):\n",
    "    \"\"\"\n",
    "    Simulate text embedding.\n",
    "    In a real system, this would output a vector representation.\n",
    "    Here we simply return the text prefixed to indicate it's 'embedded'.\n",
    "    \"\"\"\n",
    "    # The returned 'vector' is just a placeholder string.\n",
    "    return f\"[Embedded Vector Representation of]: {text}\"\n",
    "\n",
    "def retrieve_relevant_context(embedded_grounding, query, top_k=1):\n",
    "    \"\"\"\n",
    "    Simulate a similarity search that retrieves the most relevant grounding context.\n",
    "    In a real implementation, you would perform a vector similarity search.\n",
    "    Here we simply return the original embedded grounding data.\n",
    "    \"\"\"\n",
    "    # For simplicity, we assume the entire embedded grounding is relevant.\n",
    "    return embedded_grounding"
   ]
  },
  {
   "cell_type": "code",
   "execution_count": 9,
   "metadata": {},
   "outputs": [],
   "source": [
    "# Simulate embedding and retrieval of grounding context \n",
    "embedded_grounding = embed_text(sample_grounding_data)\n",
    "# Simulate a retrieval step based on a query (here we use a dummy query for demonstration)\n",
    "query = \"What are the industry trends and internal evaluations affecting supplier performance?\"\n",
    "relevant_grounding_context = retrieve_relevant_context(embedded_grounding, query)"
   ]
  },
  {
   "attachments": {},
   "cell_type": "markdown",
   "metadata": {},
   "source": [
    "## Step 4: Setup orchestration flow\n",
    "**Note:**   This includes  \n",
    "4.1 Create the prompt template. By defining prompt template, you can easily change your message without changing the code structure.  \n",
    "4.2 Configure the llm to be used  \n",
    "4.3 Create the orchestration configuration"
   ]
  },
  {
   "cell_type": "code",
   "execution_count": 10,
   "metadata": {},
   "outputs": [],
   "source": [
    "# Define a prompt template that now includes grounding context.\n",
    "template = Template(\n",
    "    messages=[\n",
    "        SystemMessage(\"You are an AI procurement assistant specialized in supplier evaluation. Note: Sensitive supplier information has been masked.\"),\n",
    "        UserMessage(\n",
    "            \"Given the following supplier data and additional grounding context, analyze and recommend the best supplier based on quality, price, and delivery performance. \\n\\nSupplier Data: {{?supplier_data}}\\n\\nGrounding Context: {{?grounding_context}}\"\n",
    "        )\n",
    "    ]\n",
    ")"
   ]
  },
  {
   "cell_type": "code",
   "execution_count": 11,
   "metadata": {},
   "outputs": [],
   "source": [
    "# Configure the Language Model (LLM) for processing.\n",
    "llm = LLM(\n",
    "    name=\"gpt-4o\",  # Replace with your model name if needed\n",
    "    version=\"latest\",\n",
    "    parameters={\"max_tokens\": 350, \"temperature\": 0.3}\n",
    ")"
   ]
  },
  {
   "cell_type": "code",
   "execution_count": 12,
   "metadata": {},
   "outputs": [],
   "source": [
    "# Create the orchestration configuration with the data masking config.\n",
    "config = OrchestrationConfig(\n",
    "    template=template,\n",
    "    llm=llm,\n",
    "    data_masking=data_masking  # Use the configuration object instead of a boolean\n",
    ")"
   ]
  },
  {
   "attachments": {},
   "cell_type": "markdown",
   "metadata": {},
   "source": [
    "## Step 5: Instantiate the orechestrateion service"
   ]
  },
  {
   "cell_type": "code",
   "execution_count": 13,
   "metadata": {},
   "outputs": [],
   "source": [
    "# Get the Supplier Sourcing API URL from environment variables\n",
    "YOUR_API_URL = os.getenv('SUPPLIER_SOURCING_ENDPOINT')\n",
    "if not YOUR_API_URL:\n",
    "    raise ValueError(\"SUPPLIER_SOURCING_ENDPOINT is not set in your .env file.\")\n",
    "\n",
    "# Now use YOUR_API_URL to instantiate the orchestration service\n",
    "orchestration_service = OrchestrationService(api_url=YOUR_API_URL, config=config)"
   ]
  },
  {
   "attachments": {},
   "cell_type": "markdown",
   "metadata": {},
   "source": [
    "## Step 6: Run the orchestration workflow"
   ]
  },
  {
   "cell_type": "code",
   "execution_count": 14,
   "metadata": {},
   "outputs": [],
   "source": [
    "# 6.1 Run the orchestration workflow by providing both the supplier data and the retrieved grounding context.\n",
    "result = orchestration_service.run(template_values=[\n",
    "    TemplateValue(name=\"supplier_data\", value=sample_supplier_data),\n",
    "    TemplateValue(name=\"grounding_context\", value=relevant_grounding_context)\n",
    "])"
   ]
  },
  {
   "cell_type": "code",
   "execution_count": null,
   "metadata": {},
   "outputs": [],
   "source": [
    "# 6.2 Print the recommendation output.\n",
    "print(\"Supplier Sourcing Recommendation with Data Masking and Grounding (Embedded):\")\n",
    "print(result.orchestration_result.choices[0].message.content)"
   ]
  },
  {
   "attachments": {},
   "cell_type": "markdown",
   "metadata": {},
   "source": [
    "## Key Learnings:  \n",
    "\n",
    "The exercise highlights several crucial steps to create a robust orchestration solution using the SAP Generative AI Hub SDK.  \n",
    "\n",
    "When you build your own AI workflow using the orchestration service, try to adopt the following key steps and apply them to your specific use case. \n",
    "\n",
    "1. **Initialize the Orchestration Service**: Before you use the generative-AI-hub-SDK, set up a virtual deployment of the Orchestration Service. After deployment, you'll receive a unique endpoint URL.\n",
    "\n",
    "> ```python\n",
    ">   YOUR_API_URL = \"...\"\n",
    "> ```\n",
    "\n",
    "<br>\n",
    "\n",
    "2. **Define the Template and Default Input Values**: You can use the URL to access orchestration service.\n",
    "\n",
    "For example: \n",
    "\n",
    "> ```python\n",
    ">    from gen_ai_hub.orchestration.models.message import SystemMessage, UserMessage\n",
    ">    from gen_ai_hub.orchestration.models.template import Template, TemplateValue\n",
    ">\n",
    ">    template = Template(\n",
    ">    messages=[\n",
    ">       SystemMessage(\"You are a helpful translation assistant.\"),\n",
    ">       UserMessage(\n",
    ">            \"Translate the following text to {{?to_lang}}: {{?text}}\"\n",
    ">       ),\n",
    ">    ],\n",
    ">    defaults=[\n",
    ">        TemplateValue(name=\"to_lang\", value=\"German\"),\n",
    ">    ],\n",
    ">   )\n",
    "> ```\n",
    "\n",
    "<br>\n",
    "\n",
    "3. **Define the LLM**\n",
    "\n",
    "For example:\n",
    "\n",
    "> ```python\n",
    ">   from gen_ai_hub.orchestration.models.llm import LLM\n",
    ">\n",
    ">   llm = LLM(name=\"gpt-4o\", version=\"latest\", parameters={\"max_tokens\": 256, \"temperature\": 0.2})\n",
    "> ```\n",
    "\n",
    "<br>\n",
    "\n",
    "4. **Create the orchestration configuration**\n",
    "\n",
    "For example: \n",
    "\n",
    "> ```python\n",
    ">   from gen_ai_hub.orchestration.models.config import OrchestrationConfig\n",
    ">\n",
    ">   config = OrchestrationConfig(\n",
    ">    template=template,\n",
    ">    llm=llm,\n",
    ">   )\n",
    ">\n",
    "> ```\n",
    "\n",
    "<br>\n",
    "\n",
    "5. **Run the orchestration request**\n",
    "\n",
    "For example:\n",
    "\n",
    "> ```python\n",
    ">   from gen_ai_hub.orchestration.service import OrchestrationService\n",
    ">\n",
    ">   orchestration_service = OrchestrationService(api_url=YOUR_API_URL, config=config)\n",
    ">   result = orchestration_service.run(template_values=[\n",
    ">   TemplateValue(name=\"text\", value=\"The Orchestration Service is working!\")\n",
    ">   ])\n",
    ">   print(result.orchestration_result.choices[0].message.content)\n",
    "> ```\n",
    "\n"
   ]
  }
 ],
 "metadata": {
  "kernelspec": {
   "display_name": "Python 3",
   "language": "python",
   "name": "python3"
  },
  "language_info": {
   "codemirror_mode": {
    "name": "ipython",
    "version": 3
   },
   "file_extension": ".py",
   "mimetype": "text/x-python",
   "name": "python",
   "nbconvert_exporter": "python",
   "pygments_lexer": "ipython3",
   "version": "3.13.1"
  },
  "orig_nbformat": 4
 },
 "nbformat": 4,
 "nbformat_minor": 2
}
