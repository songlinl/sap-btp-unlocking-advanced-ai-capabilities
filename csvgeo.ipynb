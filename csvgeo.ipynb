{
 "cells": [
  {
   "cell_type": "markdown",
   "id": "9bb4c52c",
   "metadata": {},
   "source": [
    "Step 1: Install Required Libraries\n",
    "If you haven’t already, install the necessary packages:"
   ]
  },
  {
   "cell_type": "code",
   "execution_count": 1,
   "id": "418b9176",
   "metadata": {},
   "outputs": [
    {
     "name": "stdout",
     "output_type": "stream",
     "text": [
      "Requirement already satisfied: pandas in c:\\users\\i841302\\appdata\\local\\packages\\pythonsoftwarefoundation.python.3.11_qbz5n2kfra8p0\\localcache\\local-packages\\python311\\site-packages (2.2.3)\n",
      "Collecting geopy\n",
      "  Downloading geopy-2.4.1-py3-none-any.whl.metadata (6.8 kB)\n",
      "Requirement already satisfied: numpy>=1.23.2 in c:\\users\\i841302\\appdata\\local\\packages\\pythonsoftwarefoundation.python.3.11_qbz5n2kfra8p0\\localcache\\local-packages\\python311\\site-packages (from pandas) (1.26.4)\n",
      "Requirement already satisfied: python-dateutil>=2.8.2 in c:\\users\\i841302\\appdata\\local\\packages\\pythonsoftwarefoundation.python.3.11_qbz5n2kfra8p0\\localcache\\local-packages\\python311\\site-packages (from pandas) (2.9.0.post0)\n",
      "Requirement already satisfied: pytz>=2020.1 in c:\\users\\i841302\\appdata\\local\\packages\\pythonsoftwarefoundation.python.3.11_qbz5n2kfra8p0\\localcache\\local-packages\\python311\\site-packages (from pandas) (2024.2)\n",
      "Requirement already satisfied: tzdata>=2022.7 in c:\\users\\i841302\\appdata\\local\\packages\\pythonsoftwarefoundation.python.3.11_qbz5n2kfra8p0\\localcache\\local-packages\\python311\\site-packages (from pandas) (2025.1)\n",
      "Collecting geographiclib<3,>=1.52 (from geopy)\n",
      "  Downloading geographiclib-2.0-py3-none-any.whl.metadata (1.4 kB)\n",
      "Requirement already satisfied: six>=1.5 in c:\\users\\i841302\\appdata\\local\\packages\\pythonsoftwarefoundation.python.3.11_qbz5n2kfra8p0\\localcache\\local-packages\\python311\\site-packages (from python-dateutil>=2.8.2->pandas) (1.17.0)\n",
      "Downloading geopy-2.4.1-py3-none-any.whl (125 kB)\n",
      "Downloading geographiclib-2.0-py3-none-any.whl (40 kB)\n",
      "Installing collected packages: geographiclib, geopy\n",
      "Successfully installed geographiclib-2.0 geopy-2.4.1\n",
      "Note: you may need to restart the kernel to use updated packages.\n"
     ]
    },
    {
     "name": "stderr",
     "output_type": "stream",
     "text": [
      "\n",
      "[notice] A new release of pip is available: 24.3.1 -> 25.0.1\n",
      "[notice] To update, run: C:\\Users\\I841302\\AppData\\Local\\Microsoft\\WindowsApps\\PythonSoftwareFoundation.Python.3.11_qbz5n2kfra8p0\\python.exe -m pip install --upgrade pip\n"
     ]
    }
   ],
   "source": [
    "%pip install pandas geopy"
   ]
  },
  {
   "cell_type": "markdown",
   "id": "14b1aa92",
   "metadata": {},
   "source": [
    "Step 2: Read and Clean the CSV"
   ]
  },
  {
   "cell_type": "code",
   "execution_count": null,
   "id": "2a68e792",
   "metadata": {},
   "outputs": [
    {
     "name": "stdout",
     "output_type": "stream",
     "text": [
      "  PRODUCT_ID                                       PRODUCT_NAME  \\\n",
      "0     P_0110  Logitech Signature M650 L Full Size Wireless M...   \n",
      "1     P_0138     Logitech G305 LIGHTSPEED Wireless Gaming Mouse   \n",
      "2     P_0053                       Logitech M185 Wireless Mouse   \n",
      "3     P_0125                              HP 150 Wireless Mouse   \n",
      "4     P_0118                                 Logitech ERGO K860   \n",
      "\n",
      "         CATEGORY                                        DESCRIPTION  \\\n",
      "0  IT Accessories  Scroll smarter: With Logitech Signature M650 W...   \n",
      "1  IT Accessories  HERO Gaming Sensor: Next-gen HERO mouse sensor...   \n",
      "2  IT Accessories  Compact Mouse: With a comfortable and contoure...   \n",
      "3  IT Accessories  600 DPI Optical Mouse Sensor, 2.4GHz Wireless ...   \n",
      "4  IT Accessories     Logitech ERGO K860 Wireless Ergonomic Keyboard   \n",
      "\n",
      "  UNIT_PRICE SUPPLIER_ID   SUPPLIER_NAME  LEAD_TIME_DAYS  MIN_ORDER CURRENCY  \\\n",
      "0      34,75        S148    SpeedStorage              13         32     EURO   \n",
      "1     147,25        S133       MouseWare               2         39     EURO   \n",
      "2     295,93        S158  StandSolutions              13         23     EURO   \n",
      "3     240,69        S151       VisionCam               8          5     EURO   \n",
      "4     239,18        S191    SpeedStorage               1         10     EURO   \n",
      "\n",
      "  SUPPLIER_COUNTRY                                   SUPPLIER_ADDRESS  \\\n",
      "0          Germany  Holzhausenstraße 6, 60318 Frankfurt am Main, G...   \n",
      "1          Germany          Hochpfortenbüchel 2B, 50676 Köln, Germany   \n",
      "2          Germany                            44147 Dortmund, Germany   \n",
      "3          Germany           Kaiserstraße 34, 44135 Dortmund, Germany   \n",
      "4          Germany             Lange Str. 62, 44137 Dortmund, Germany   \n",
      "\n",
      "          STATUS SUPPLIER_CITY  STOCK_QUANTITY MANUFACTURER  \\\n",
      "0      AVAILABLE     Frankfurt             104     Logitech   \n",
      "1      AVAILABLE       Cologne             498     Logitech   \n",
      "2      AVAILABLE      Dortmund             735       Cherry   \n",
      "3  NOT AVAILABLE      Dortmund               0           HP   \n",
      "4  NOT AVAILABLE      Dortmund               0      Logitec   \n",
      "\n",
      "  RATING,,,,,,,,,,,,,,  \n",
      "0         5,,,,,,,,,,,  \n",
      "1         3,,,,,,,,,,,  \n",
      "2           4,,,,,,,,,  \n",
      "3               3,,,,,  \n",
      "4         4,,,,,,,,,,,  \n"
     ]
    }
   ],
   "source": [
    "import pandas as pd\n",
    "\n",
    "# Load the CSV, skipping malformed lines\n",
    "df = pd.read_csv(\"data/new_product.csv\", delimiter=\";\", quotechar='\"', engine='python', on_bad_lines='skip')\n",
    "# df = df.str.rstrip(',')\n",
    "# Optional: preview the first few rows\n",
    "print(df.head())"
   ]
  },
  {
   "cell_type": "markdown",
   "id": "86977e78",
   "metadata": {},
   "source": [
    "Step 3: Get Unique Cities"
   ]
  },
  {
   "cell_type": "code",
   "execution_count": 2,
   "id": "8c4bb318",
   "metadata": {},
   "outputs": [
    {
     "name": "stdout",
     "output_type": "stream",
     "text": [
      "['Frankfurt' 'Cologne' 'Dortmund' 'Essen' 'Hamburg' 'Munich' 'Berlin'\n",
      " 'Stuttgart' 'Fürth' 'Langenhagen']\n"
     ]
    }
   ],
   "source": [
    "unique_cities = df['SUPPLIER_CITY'].dropna().unique()\n",
    "print(unique_cities[:10])  # print first 10 for sanity check"
   ]
  },
  {
   "cell_type": "markdown",
   "id": "8856c970",
   "metadata": {},
   "source": [
    "Step 4: Get Latitude and Longitude with Geopy"
   ]
  },
  {
   "cell_type": "code",
   "execution_count": null,
   "id": "2f6b5c93",
   "metadata": {},
   "outputs": [
    {
     "ename": "AttributeError",
     "evalue": "'DataFrame' object has no attribute 'str'",
     "output_type": "error",
     "traceback": [
      "\u001b[1;31m---------------------------------------------------------------------------\u001b[0m",
      "\u001b[1;31mAttributeError\u001b[0m                            Traceback (most recent call last)",
      "\u001b[1;32m~\\AppData\\Local\\Temp\\ipykernel_16120\\2654845551.py\u001b[0m in \u001b[0;36m?\u001b[1;34m()\u001b[0m\n\u001b[0;32m     18\u001b[0m \u001b[0mcity_coords\u001b[0m\u001b[1;33m[\u001b[0m\u001b[1;33m[\u001b[0m\u001b[1;34m'CITY_LAT'\u001b[0m\u001b[1;33m,\u001b[0m \u001b[1;34m'CITY_LONG'\u001b[0m\u001b[1;33m]\u001b[0m\u001b[1;33m]\u001b[0m \u001b[1;33m=\u001b[0m \u001b[0mcity_coords\u001b[0m\u001b[1;33m[\u001b[0m\u001b[1;34m'SUPPLIER_CITY'\u001b[0m\u001b[1;33m]\u001b[0m\u001b[1;33m.\u001b[0m\u001b[0mapply\u001b[0m\u001b[1;33m(\u001b[0m\u001b[0mget_lat_lon\u001b[0m\u001b[1;33m)\u001b[0m\u001b[1;33m\u001b[0m\u001b[1;33m\u001b[0m\u001b[0m\n\u001b[0;32m     19\u001b[0m \u001b[1;33m\u001b[0m\u001b[0m\n\u001b[0;32m     20\u001b[0m \u001b[1;31m# Merge back into original dataframe\u001b[0m\u001b[1;33m\u001b[0m\u001b[1;33m\u001b[0m\u001b[0m\n\u001b[0;32m     21\u001b[0m \u001b[0mdf\u001b[0m \u001b[1;33m=\u001b[0m \u001b[0mdf\u001b[0m\u001b[1;33m.\u001b[0m\u001b[0mmerge\u001b[0m\u001b[1;33m(\u001b[0m\u001b[0mcity_coords\u001b[0m\u001b[1;33m,\u001b[0m \u001b[0mon\u001b[0m\u001b[1;33m=\u001b[0m\u001b[1;34m'SUPPLIER_CITY'\u001b[0m\u001b[1;33m,\u001b[0m \u001b[0mhow\u001b[0m\u001b[1;33m=\u001b[0m\u001b[1;34m'left'\u001b[0m\u001b[1;33m)\u001b[0m\u001b[1;33m\u001b[0m\u001b[1;33m\u001b[0m\u001b[0m\n\u001b[1;32m---> 22\u001b[1;33m \u001b[0mdf\u001b[0m \u001b[1;33m=\u001b[0m \u001b[0mdf\u001b[0m\u001b[1;33m.\u001b[0m\u001b[0mstr\u001b[0m\u001b[1;33m.\u001b[0m\u001b[0mrstrip\u001b[0m\u001b[1;33m(\u001b[0m\u001b[1;34m','\u001b[0m\u001b[1;33m)\u001b[0m\u001b[1;33m\u001b[0m\u001b[1;33m\u001b[0m\u001b[0m\n\u001b[0m\u001b[0;32m     23\u001b[0m \u001b[1;31m# Reorder columns\u001b[0m\u001b[1;33m\u001b[0m\u001b[1;33m\u001b[0m\u001b[0m\n\u001b[0;32m     24\u001b[0m \u001b[0mdf\u001b[0m \u001b[1;33m=\u001b[0m \u001b[0mdf\u001b[0m\u001b[1;33m[\u001b[0m\u001b[1;33m[\u001b[0m\u001b[0mcol\u001b[0m \u001b[1;32mfor\u001b[0m \u001b[0mcol\u001b[0m \u001b[1;32min\u001b[0m \u001b[0mdf\u001b[0m\u001b[1;33m.\u001b[0m\u001b[0mcolumns\u001b[0m \u001b[1;32mif\u001b[0m \u001b[0mcol\u001b[0m \u001b[1;33m!=\u001b[0m \u001b[1;34m'RATING'\u001b[0m\u001b[1;33m]\u001b[0m \u001b[1;33m+\u001b[0m \u001b[1;33m[\u001b[0m\u001b[1;34m'RATING'\u001b[0m\u001b[1;33m]\u001b[0m\u001b[1;33m]\u001b[0m\u001b[1;33m\u001b[0m\u001b[1;33m\u001b[0m\u001b[0m\n",
      "\u001b[1;32m~\\AppData\\Local\\Packages\\PythonSoftwareFoundation.Python.3.11_qbz5n2kfra8p0\\LocalCache\\local-packages\\Python311\\site-packages\\pandas\\core\\generic.py\u001b[0m in \u001b[0;36m?\u001b[1;34m(self, name)\u001b[0m\n\u001b[0;32m   6295\u001b[0m             \u001b[1;32mand\u001b[0m \u001b[0mname\u001b[0m \u001b[1;32mnot\u001b[0m \u001b[1;32min\u001b[0m \u001b[0mself\u001b[0m\u001b[1;33m.\u001b[0m\u001b[0m_accessors\u001b[0m\u001b[1;33m\u001b[0m\u001b[1;33m\u001b[0m\u001b[0m\n\u001b[0;32m   6296\u001b[0m             \u001b[1;32mand\u001b[0m \u001b[0mself\u001b[0m\u001b[1;33m.\u001b[0m\u001b[0m_info_axis\u001b[0m\u001b[1;33m.\u001b[0m\u001b[0m_can_hold_identifiers_and_holds_name\u001b[0m\u001b[1;33m(\u001b[0m\u001b[0mname\u001b[0m\u001b[1;33m)\u001b[0m\u001b[1;33m\u001b[0m\u001b[1;33m\u001b[0m\u001b[0m\n\u001b[0;32m   6297\u001b[0m         ):\n\u001b[0;32m   6298\u001b[0m             \u001b[1;32mreturn\u001b[0m \u001b[0mself\u001b[0m\u001b[1;33m[\u001b[0m\u001b[0mname\u001b[0m\u001b[1;33m]\u001b[0m\u001b[1;33m\u001b[0m\u001b[1;33m\u001b[0m\u001b[0m\n\u001b[1;32m-> 6299\u001b[1;33m         \u001b[1;32mreturn\u001b[0m \u001b[0mobject\u001b[0m\u001b[1;33m.\u001b[0m\u001b[0m__getattribute__\u001b[0m\u001b[1;33m(\u001b[0m\u001b[0mself\u001b[0m\u001b[1;33m,\u001b[0m \u001b[0mname\u001b[0m\u001b[1;33m)\u001b[0m\u001b[1;33m\u001b[0m\u001b[1;33m\u001b[0m\u001b[0m\n\u001b[0m",
      "\u001b[1;31mAttributeError\u001b[0m: 'DataFrame' object has no attribute 'str'"
     ]
    }
   ],
   "source": [
    "from geopy.geocoders import Nominatim\n",
    "import time\n",
    "\n",
    "geolocator = Nominatim(user_agent=\"geo_enricher\")\n",
    "\n",
    "# Function to get lat/lon for a city\n",
    "def get_lat_lon(city):\n",
    "    try:\n",
    "        location = geolocator.geocode(city,timeout=4)\n",
    "        if location:\n",
    "            return pd.Series([location.latitude, location.longitude])\n",
    "    except Exception as e:\n",
    "        print(f\"Error fetching for {city}: {e}\")\n",
    "    return pd.Series([None, None])\n",
    "\n",
    "# Create a DataFrame mapping city to coordinates\n",
    "city_coords = pd.DataFrame(unique_cities, columns=['SUPPLIER_CITY'])\n",
    "city_coords[['CITY_LAT', 'CITY_LONG']] = city_coords['SUPPLIER_CITY'].apply(get_lat_lon)\n",
    "\n",
    "# Merge back into original dataframe\n",
    "df = df.merge(city_coords, on='SUPPLIER_CITY', how='left')\n",
    "# Reorder columns\n",
    "df = df[[col for col in df.columns if col != 'RATING'] + ['RATING']]"
   ]
  },
  {
   "cell_type": "markdown",
   "id": "521422e9",
   "metadata": {},
   "source": [
    "Step 5: Save the Enriched Data"
   ]
  },
  {
   "cell_type": "code",
   "execution_count": 5,
   "id": "3b941db6",
   "metadata": {},
   "outputs": [
    {
     "name": "stdout",
     "output_type": "stream",
     "text": [
      "Done! File saved as 'new_product_with_geo.csv'\n"
     ]
    }
   ],
   "source": [
    "df.to_csv(\"new_product_with_geo.csv\", sep=';', quotechar='\"', index=False)\n",
    "print(\"Done! File saved as 'new_product_with_geo.csv'\")\n"
   ]
  }
 ],
 "metadata": {
  "kernelspec": {
   "display_name": "Python 3",
   "language": "python",
   "name": "python3"
  },
  "language_info": {
   "codemirror_mode": {
    "name": "ipython",
    "version": 3
   },
   "file_extension": ".py",
   "mimetype": "text/x-python",
   "name": "python",
   "nbconvert_exporter": "python",
   "pygments_lexer": "ipython3",
   "version": "3.11.9"
  }
 },
 "nbformat": 4,
 "nbformat_minor": 5
}
